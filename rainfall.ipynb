{
 "cells": [
  {
   "cell_type": "code",
   "execution_count": 1,
   "metadata": {
    "collapsed": true
   },
   "outputs": [],
   "source": [
    "import pandas as pd\n",
    "import numpy as np\n"
   ]
  },
  {
   "cell_type": "code",
   "execution_count": 2,
   "outputs": [],
   "source": [
    "#RAINFALL_MELB = r\"C:\\Users\\ASUS\\OneDrive\\Semester 3\\Innovation Project\\Assign_02\\rainfall_melb.csv\"\n",
    "RAINFALL_ADEL = r\"C:\\Users\\ASUS\\OneDrive\\Semester 3\\Innovation Project\\Assign_02\\Adelaide_rainfall\\adelaide_rainfall.csv\""
   ],
   "metadata": {
    "collapsed": false
   }
  },
  {
   "cell_type": "code",
   "execution_count": 3,
   "outputs": [],
   "source": [
    "#rainfall_melb = pd.read_csv(RAINFALL_MELB)\n",
    "rainfall_adel = pd.read_csv(RAINFALL_ADEL)"
   ],
   "metadata": {
    "collapsed": false
   }
  },
  {
   "cell_type": "code",
   "execution_count": 4,
   "outputs": [
    {
     "data": {
      "text/plain": "   Product code  Station Number  Year   Jan   Feb   Mar   Apr   May    Jun  \\\n0    IDCJAC0001           23034  1955   NaN   NaN   2.3  46.2  93.7  136.1   \n1    IDCJAC0001           23034  1956  23.9   6.6  43.2  72.9  88.5  115.6   \n2    IDCJAC0001           23034  1957   0.3   0.8  21.1  21.6  40.1   63.4   \n3    IDCJAC0001           23034  1958   3.9   2.3  22.1  13.5  89.3    8.2   \n4    IDCJAC0001           23034  1959   4.4  19.4  23.9   7.1   4.4   11.5   \n..          ...             ...   ...   ...   ...   ...   ...   ...    ...   \n65   IDCJAC0001           23034  2020  17.8  32.8   4.8  88.2  40.8   48.0   \n66   IDCJAC0001           23034  2021  26.0  18.8  17.6  11.2  30.6   79.6   \n67   IDCJAC0001           23034  2022  40.0   9.0  12.0  15.0  63.2   60.8   \n68   IDCJAC0001           23034  2023  17.8  12.8  31.2  45.8  62.2  107.0   \n69   IDCJAC0001           23034  2024  55.6   0.0   2.4  12.8   9.4   56.6   \n\n     Jul   Aug   Sep   Oct   Nov   Dec  Annual  \n0   33.2  76.4  49.5  45.1  53.3  18.0     NaN  \n1   65.8  44.5  55.2  40.2  15.8  17.6   589.8  \n2   83.1  32.4  34.5  41.1  33.7   7.8   379.9  \n3   79.2  51.2  70.4  61.3  10.3   6.6   418.3  \n4   34.1  41.8  28.0  20.9  21.5  34.6   251.6  \n..   ...   ...   ...   ...   ...   ...     ...  \n65  15.2  34.0  42.2  41.4  10.8  17.0   393.0  \n66  85.4  39.4  22.0  40.6  29.8   1.6   402.6  \n67  21.6  72.2  49.2  44.6  85.4   8.0   481.0  \n68  37.4  37.6  20.6  12.0  59.0  56.2   499.6  \n69  43.4  36.0   NaN   NaN   NaN   NaN     NaN  \n\n[70 rows x 16 columns]",
      "text/html": "<div>\n<style scoped>\n    .dataframe tbody tr th:only-of-type {\n        vertical-align: middle;\n    }\n\n    .dataframe tbody tr th {\n        vertical-align: top;\n    }\n\n    .dataframe thead th {\n        text-align: right;\n    }\n</style>\n<table border=\"1\" class=\"dataframe\">\n  <thead>\n    <tr style=\"text-align: right;\">\n      <th></th>\n      <th>Product code</th>\n      <th>Station Number</th>\n      <th>Year</th>\n      <th>Jan</th>\n      <th>Feb</th>\n      <th>Mar</th>\n      <th>Apr</th>\n      <th>May</th>\n      <th>Jun</th>\n      <th>Jul</th>\n      <th>Aug</th>\n      <th>Sep</th>\n      <th>Oct</th>\n      <th>Nov</th>\n      <th>Dec</th>\n      <th>Annual</th>\n    </tr>\n  </thead>\n  <tbody>\n    <tr>\n      <th>0</th>\n      <td>IDCJAC0001</td>\n      <td>23034</td>\n      <td>1955</td>\n      <td>NaN</td>\n      <td>NaN</td>\n      <td>2.3</td>\n      <td>46.2</td>\n      <td>93.7</td>\n      <td>136.1</td>\n      <td>33.2</td>\n      <td>76.4</td>\n      <td>49.5</td>\n      <td>45.1</td>\n      <td>53.3</td>\n      <td>18.0</td>\n      <td>NaN</td>\n    </tr>\n    <tr>\n      <th>1</th>\n      <td>IDCJAC0001</td>\n      <td>23034</td>\n      <td>1956</td>\n      <td>23.9</td>\n      <td>6.6</td>\n      <td>43.2</td>\n      <td>72.9</td>\n      <td>88.5</td>\n      <td>115.6</td>\n      <td>65.8</td>\n      <td>44.5</td>\n      <td>55.2</td>\n      <td>40.2</td>\n      <td>15.8</td>\n      <td>17.6</td>\n      <td>589.8</td>\n    </tr>\n    <tr>\n      <th>2</th>\n      <td>IDCJAC0001</td>\n      <td>23034</td>\n      <td>1957</td>\n      <td>0.3</td>\n      <td>0.8</td>\n      <td>21.1</td>\n      <td>21.6</td>\n      <td>40.1</td>\n      <td>63.4</td>\n      <td>83.1</td>\n      <td>32.4</td>\n      <td>34.5</td>\n      <td>41.1</td>\n      <td>33.7</td>\n      <td>7.8</td>\n      <td>379.9</td>\n    </tr>\n    <tr>\n      <th>3</th>\n      <td>IDCJAC0001</td>\n      <td>23034</td>\n      <td>1958</td>\n      <td>3.9</td>\n      <td>2.3</td>\n      <td>22.1</td>\n      <td>13.5</td>\n      <td>89.3</td>\n      <td>8.2</td>\n      <td>79.2</td>\n      <td>51.2</td>\n      <td>70.4</td>\n      <td>61.3</td>\n      <td>10.3</td>\n      <td>6.6</td>\n      <td>418.3</td>\n    </tr>\n    <tr>\n      <th>4</th>\n      <td>IDCJAC0001</td>\n      <td>23034</td>\n      <td>1959</td>\n      <td>4.4</td>\n      <td>19.4</td>\n      <td>23.9</td>\n      <td>7.1</td>\n      <td>4.4</td>\n      <td>11.5</td>\n      <td>34.1</td>\n      <td>41.8</td>\n      <td>28.0</td>\n      <td>20.9</td>\n      <td>21.5</td>\n      <td>34.6</td>\n      <td>251.6</td>\n    </tr>\n    <tr>\n      <th>...</th>\n      <td>...</td>\n      <td>...</td>\n      <td>...</td>\n      <td>...</td>\n      <td>...</td>\n      <td>...</td>\n      <td>...</td>\n      <td>...</td>\n      <td>...</td>\n      <td>...</td>\n      <td>...</td>\n      <td>...</td>\n      <td>...</td>\n      <td>...</td>\n      <td>...</td>\n      <td>...</td>\n    </tr>\n    <tr>\n      <th>65</th>\n      <td>IDCJAC0001</td>\n      <td>23034</td>\n      <td>2020</td>\n      <td>17.8</td>\n      <td>32.8</td>\n      <td>4.8</td>\n      <td>88.2</td>\n      <td>40.8</td>\n      <td>48.0</td>\n      <td>15.2</td>\n      <td>34.0</td>\n      <td>42.2</td>\n      <td>41.4</td>\n      <td>10.8</td>\n      <td>17.0</td>\n      <td>393.0</td>\n    </tr>\n    <tr>\n      <th>66</th>\n      <td>IDCJAC0001</td>\n      <td>23034</td>\n      <td>2021</td>\n      <td>26.0</td>\n      <td>18.8</td>\n      <td>17.6</td>\n      <td>11.2</td>\n      <td>30.6</td>\n      <td>79.6</td>\n      <td>85.4</td>\n      <td>39.4</td>\n      <td>22.0</td>\n      <td>40.6</td>\n      <td>29.8</td>\n      <td>1.6</td>\n      <td>402.6</td>\n    </tr>\n    <tr>\n      <th>67</th>\n      <td>IDCJAC0001</td>\n      <td>23034</td>\n      <td>2022</td>\n      <td>40.0</td>\n      <td>9.0</td>\n      <td>12.0</td>\n      <td>15.0</td>\n      <td>63.2</td>\n      <td>60.8</td>\n      <td>21.6</td>\n      <td>72.2</td>\n      <td>49.2</td>\n      <td>44.6</td>\n      <td>85.4</td>\n      <td>8.0</td>\n      <td>481.0</td>\n    </tr>\n    <tr>\n      <th>68</th>\n      <td>IDCJAC0001</td>\n      <td>23034</td>\n      <td>2023</td>\n      <td>17.8</td>\n      <td>12.8</td>\n      <td>31.2</td>\n      <td>45.8</td>\n      <td>62.2</td>\n      <td>107.0</td>\n      <td>37.4</td>\n      <td>37.6</td>\n      <td>20.6</td>\n      <td>12.0</td>\n      <td>59.0</td>\n      <td>56.2</td>\n      <td>499.6</td>\n    </tr>\n    <tr>\n      <th>69</th>\n      <td>IDCJAC0001</td>\n      <td>23034</td>\n      <td>2024</td>\n      <td>55.6</td>\n      <td>0.0</td>\n      <td>2.4</td>\n      <td>12.8</td>\n      <td>9.4</td>\n      <td>56.6</td>\n      <td>43.4</td>\n      <td>36.0</td>\n      <td>NaN</td>\n      <td>NaN</td>\n      <td>NaN</td>\n      <td>NaN</td>\n      <td>NaN</td>\n    </tr>\n  </tbody>\n</table>\n<p>70 rows × 16 columns</p>\n</div>"
     },
     "execution_count": 4,
     "metadata": {},
     "output_type": "execute_result"
    }
   ],
   "source": [
    "rainfall_adel"
   ],
   "metadata": {
    "collapsed": false
   }
  },
  {
   "cell_type": "code",
   "execution_count": 5,
   "outputs": [
    {
     "data": {
      "text/plain": "   Product code  Station Number  Year   Jan   Feb   Mar   Apr   May    Jun  \\\n0    IDCJAC0001           23034  1955   NaN   NaN   2.3  46.2  93.7  136.1   \n1    IDCJAC0001           23034  1956  23.9   6.6  43.2  72.9  88.5  115.6   \n2    IDCJAC0001           23034  1957   0.3   0.8  21.1  21.6  40.1   63.4   \n3    IDCJAC0001           23034  1958   3.9   2.3  22.1  13.5  89.3    8.2   \n4    IDCJAC0001           23034  1959   4.4  19.4  23.9   7.1   4.4   11.5   \n..          ...             ...   ...   ...   ...   ...   ...   ...    ...   \n65   IDCJAC0001           23034  2020  17.8  32.8   4.8  88.2  40.8   48.0   \n66   IDCJAC0001           23034  2021  26.0  18.8  17.6  11.2  30.6   79.6   \n67   IDCJAC0001           23034  2022  40.0   9.0  12.0  15.0  63.2   60.8   \n68   IDCJAC0001           23034  2023  17.8  12.8  31.2  45.8  62.2  107.0   \n69   IDCJAC0001           23034  2024  55.6   0.0   2.4  12.8   9.4   56.6   \n\n     Jul   Aug   Sep   Oct   Nov   Dec  Annual  \n0   33.2  76.4  49.5  45.1  53.3  18.0     NaN  \n1   65.8  44.5  55.2  40.2  15.8  17.6   589.8  \n2   83.1  32.4  34.5  41.1  33.7   7.8   379.9  \n3   79.2  51.2  70.4  61.3  10.3   6.6   418.3  \n4   34.1  41.8  28.0  20.9  21.5  34.6   251.6  \n..   ...   ...   ...   ...   ...   ...     ...  \n65  15.2  34.0  42.2  41.4  10.8  17.0   393.0  \n66  85.4  39.4  22.0  40.6  29.8   1.6   402.6  \n67  21.6  72.2  49.2  44.6  85.4   8.0   481.0  \n68  37.4  37.6  20.6  12.0  59.0  56.2   499.6  \n69  43.4  36.0   NaN   NaN   NaN   NaN     NaN  \n\n[70 rows x 16 columns]",
      "text/html": "<div>\n<style scoped>\n    .dataframe tbody tr th:only-of-type {\n        vertical-align: middle;\n    }\n\n    .dataframe tbody tr th {\n        vertical-align: top;\n    }\n\n    .dataframe thead th {\n        text-align: right;\n    }\n</style>\n<table border=\"1\" class=\"dataframe\">\n  <thead>\n    <tr style=\"text-align: right;\">\n      <th></th>\n      <th>Product code</th>\n      <th>Station Number</th>\n      <th>Year</th>\n      <th>Jan</th>\n      <th>Feb</th>\n      <th>Mar</th>\n      <th>Apr</th>\n      <th>May</th>\n      <th>Jun</th>\n      <th>Jul</th>\n      <th>Aug</th>\n      <th>Sep</th>\n      <th>Oct</th>\n      <th>Nov</th>\n      <th>Dec</th>\n      <th>Annual</th>\n    </tr>\n  </thead>\n  <tbody>\n    <tr>\n      <th>0</th>\n      <td>IDCJAC0001</td>\n      <td>23034</td>\n      <td>1955</td>\n      <td>NaN</td>\n      <td>NaN</td>\n      <td>2.3</td>\n      <td>46.2</td>\n      <td>93.7</td>\n      <td>136.1</td>\n      <td>33.2</td>\n      <td>76.4</td>\n      <td>49.5</td>\n      <td>45.1</td>\n      <td>53.3</td>\n      <td>18.0</td>\n      <td>NaN</td>\n    </tr>\n    <tr>\n      <th>1</th>\n      <td>IDCJAC0001</td>\n      <td>23034</td>\n      <td>1956</td>\n      <td>23.9</td>\n      <td>6.6</td>\n      <td>43.2</td>\n      <td>72.9</td>\n      <td>88.5</td>\n      <td>115.6</td>\n      <td>65.8</td>\n      <td>44.5</td>\n      <td>55.2</td>\n      <td>40.2</td>\n      <td>15.8</td>\n      <td>17.6</td>\n      <td>589.8</td>\n    </tr>\n    <tr>\n      <th>2</th>\n      <td>IDCJAC0001</td>\n      <td>23034</td>\n      <td>1957</td>\n      <td>0.3</td>\n      <td>0.8</td>\n      <td>21.1</td>\n      <td>21.6</td>\n      <td>40.1</td>\n      <td>63.4</td>\n      <td>83.1</td>\n      <td>32.4</td>\n      <td>34.5</td>\n      <td>41.1</td>\n      <td>33.7</td>\n      <td>7.8</td>\n      <td>379.9</td>\n    </tr>\n    <tr>\n      <th>3</th>\n      <td>IDCJAC0001</td>\n      <td>23034</td>\n      <td>1958</td>\n      <td>3.9</td>\n      <td>2.3</td>\n      <td>22.1</td>\n      <td>13.5</td>\n      <td>89.3</td>\n      <td>8.2</td>\n      <td>79.2</td>\n      <td>51.2</td>\n      <td>70.4</td>\n      <td>61.3</td>\n      <td>10.3</td>\n      <td>6.6</td>\n      <td>418.3</td>\n    </tr>\n    <tr>\n      <th>4</th>\n      <td>IDCJAC0001</td>\n      <td>23034</td>\n      <td>1959</td>\n      <td>4.4</td>\n      <td>19.4</td>\n      <td>23.9</td>\n      <td>7.1</td>\n      <td>4.4</td>\n      <td>11.5</td>\n      <td>34.1</td>\n      <td>41.8</td>\n      <td>28.0</td>\n      <td>20.9</td>\n      <td>21.5</td>\n      <td>34.6</td>\n      <td>251.6</td>\n    </tr>\n    <tr>\n      <th>...</th>\n      <td>...</td>\n      <td>...</td>\n      <td>...</td>\n      <td>...</td>\n      <td>...</td>\n      <td>...</td>\n      <td>...</td>\n      <td>...</td>\n      <td>...</td>\n      <td>...</td>\n      <td>...</td>\n      <td>...</td>\n      <td>...</td>\n      <td>...</td>\n      <td>...</td>\n      <td>...</td>\n    </tr>\n    <tr>\n      <th>65</th>\n      <td>IDCJAC0001</td>\n      <td>23034</td>\n      <td>2020</td>\n      <td>17.8</td>\n      <td>32.8</td>\n      <td>4.8</td>\n      <td>88.2</td>\n      <td>40.8</td>\n      <td>48.0</td>\n      <td>15.2</td>\n      <td>34.0</td>\n      <td>42.2</td>\n      <td>41.4</td>\n      <td>10.8</td>\n      <td>17.0</td>\n      <td>393.0</td>\n    </tr>\n    <tr>\n      <th>66</th>\n      <td>IDCJAC0001</td>\n      <td>23034</td>\n      <td>2021</td>\n      <td>26.0</td>\n      <td>18.8</td>\n      <td>17.6</td>\n      <td>11.2</td>\n      <td>30.6</td>\n      <td>79.6</td>\n      <td>85.4</td>\n      <td>39.4</td>\n      <td>22.0</td>\n      <td>40.6</td>\n      <td>29.8</td>\n      <td>1.6</td>\n      <td>402.6</td>\n    </tr>\n    <tr>\n      <th>67</th>\n      <td>IDCJAC0001</td>\n      <td>23034</td>\n      <td>2022</td>\n      <td>40.0</td>\n      <td>9.0</td>\n      <td>12.0</td>\n      <td>15.0</td>\n      <td>63.2</td>\n      <td>60.8</td>\n      <td>21.6</td>\n      <td>72.2</td>\n      <td>49.2</td>\n      <td>44.6</td>\n      <td>85.4</td>\n      <td>8.0</td>\n      <td>481.0</td>\n    </tr>\n    <tr>\n      <th>68</th>\n      <td>IDCJAC0001</td>\n      <td>23034</td>\n      <td>2023</td>\n      <td>17.8</td>\n      <td>12.8</td>\n      <td>31.2</td>\n      <td>45.8</td>\n      <td>62.2</td>\n      <td>107.0</td>\n      <td>37.4</td>\n      <td>37.6</td>\n      <td>20.6</td>\n      <td>12.0</td>\n      <td>59.0</td>\n      <td>56.2</td>\n      <td>499.6</td>\n    </tr>\n    <tr>\n      <th>69</th>\n      <td>IDCJAC0001</td>\n      <td>23034</td>\n      <td>2024</td>\n      <td>55.6</td>\n      <td>0.0</td>\n      <td>2.4</td>\n      <td>12.8</td>\n      <td>9.4</td>\n      <td>56.6</td>\n      <td>43.4</td>\n      <td>36.0</td>\n      <td>NaN</td>\n      <td>NaN</td>\n      <td>NaN</td>\n      <td>NaN</td>\n      <td>NaN</td>\n    </tr>\n  </tbody>\n</table>\n<p>70 rows × 16 columns</p>\n</div>"
     },
     "execution_count": 5,
     "metadata": {},
     "output_type": "execute_result"
    }
   ],
   "source": [
    "rainfall_adel.drop_duplicates()"
   ],
   "metadata": {
    "collapsed": false
   }
  },
  {
   "cell_type": "code",
   "execution_count": 6,
   "outputs": [],
   "source": [
    "rainfall_adel = rainfall_adel.drop(columns=['Product code'])\n",
    "rainfall_adel = pd.melt(rainfall_adel, id_vars=['Station Number', 'Year'],\n",
    "                         var_name='Month', value_name='Rainfall')"
   ],
   "metadata": {
    "collapsed": false
   }
  },
  {
   "cell_type": "code",
   "execution_count": 7,
   "outputs": [
    {
     "data": {
      "text/plain": "     Station Number  Year   Month  Rainfall\n0             23034  1955     Jan       NaN\n1             23034  1956     Jan      23.9\n2             23034  1957     Jan       0.3\n3             23034  1958     Jan       3.9\n4             23034  1959     Jan       4.4\n..              ...   ...     ...       ...\n905           23034  2020  Annual     393.0\n906           23034  2021  Annual     402.6\n907           23034  2022  Annual     481.0\n908           23034  2023  Annual     499.6\n909           23034  2024  Annual       NaN\n\n[910 rows x 4 columns]",
      "text/html": "<div>\n<style scoped>\n    .dataframe tbody tr th:only-of-type {\n        vertical-align: middle;\n    }\n\n    .dataframe tbody tr th {\n        vertical-align: top;\n    }\n\n    .dataframe thead th {\n        text-align: right;\n    }\n</style>\n<table border=\"1\" class=\"dataframe\">\n  <thead>\n    <tr style=\"text-align: right;\">\n      <th></th>\n      <th>Station Number</th>\n      <th>Year</th>\n      <th>Month</th>\n      <th>Rainfall</th>\n    </tr>\n  </thead>\n  <tbody>\n    <tr>\n      <th>0</th>\n      <td>23034</td>\n      <td>1955</td>\n      <td>Jan</td>\n      <td>NaN</td>\n    </tr>\n    <tr>\n      <th>1</th>\n      <td>23034</td>\n      <td>1956</td>\n      <td>Jan</td>\n      <td>23.9</td>\n    </tr>\n    <tr>\n      <th>2</th>\n      <td>23034</td>\n      <td>1957</td>\n      <td>Jan</td>\n      <td>0.3</td>\n    </tr>\n    <tr>\n      <th>3</th>\n      <td>23034</td>\n      <td>1958</td>\n      <td>Jan</td>\n      <td>3.9</td>\n    </tr>\n    <tr>\n      <th>4</th>\n      <td>23034</td>\n      <td>1959</td>\n      <td>Jan</td>\n      <td>4.4</td>\n    </tr>\n    <tr>\n      <th>...</th>\n      <td>...</td>\n      <td>...</td>\n      <td>...</td>\n      <td>...</td>\n    </tr>\n    <tr>\n      <th>905</th>\n      <td>23034</td>\n      <td>2020</td>\n      <td>Annual</td>\n      <td>393.0</td>\n    </tr>\n    <tr>\n      <th>906</th>\n      <td>23034</td>\n      <td>2021</td>\n      <td>Annual</td>\n      <td>402.6</td>\n    </tr>\n    <tr>\n      <th>907</th>\n      <td>23034</td>\n      <td>2022</td>\n      <td>Annual</td>\n      <td>481.0</td>\n    </tr>\n    <tr>\n      <th>908</th>\n      <td>23034</td>\n      <td>2023</td>\n      <td>Annual</td>\n      <td>499.6</td>\n    </tr>\n    <tr>\n      <th>909</th>\n      <td>23034</td>\n      <td>2024</td>\n      <td>Annual</td>\n      <td>NaN</td>\n    </tr>\n  </tbody>\n</table>\n<p>910 rows × 4 columns</p>\n</div>"
     },
     "execution_count": 7,
     "metadata": {},
     "output_type": "execute_result"
    }
   ],
   "source": [
    "rainfall_adel"
   ],
   "metadata": {
    "collapsed": false
   }
  },
  {
   "cell_type": "code",
   "execution_count": 8,
   "outputs": [],
   "source": [
    "rainfall_adel = rainfall_adel[rainfall_adel['Year'] >= 2017]"
   ],
   "metadata": {
    "collapsed": false
   }
  },
  {
   "cell_type": "code",
   "execution_count": 9,
   "outputs": [],
   "source": [
    "rainfall_adel = rainfall_adel.drop(rainfall_adel[rainfall_adel['Month'] == 'Annual'].index)"
   ],
   "metadata": {
    "collapsed": false
   }
  },
  {
   "cell_type": "code",
   "execution_count": 10,
   "outputs": [],
   "source": [
    "rainfall_adel['Month'] = pd.to_datetime(rainfall_adel['Month'], format='%b').dt.month"
   ],
   "metadata": {
    "collapsed": false
   }
  },
  {
   "cell_type": "code",
   "execution_count": 11,
   "outputs": [
    {
     "data": {
      "text/plain": "     Station Number  Year  Month  Rainfall\n62            23034  2017      1      39.4\n63            23034  2018      1       8.8\n64            23034  2019      1       0.2\n65            23034  2020      1      17.8\n66            23034  2021      1      26.0\n..              ...   ...    ...       ...\n835           23034  2020     12      17.0\n836           23034  2021     12       1.6\n837           23034  2022     12       8.0\n838           23034  2023     12      56.2\n839           23034  2024     12       NaN\n\n[96 rows x 4 columns]",
      "text/html": "<div>\n<style scoped>\n    .dataframe tbody tr th:only-of-type {\n        vertical-align: middle;\n    }\n\n    .dataframe tbody tr th {\n        vertical-align: top;\n    }\n\n    .dataframe thead th {\n        text-align: right;\n    }\n</style>\n<table border=\"1\" class=\"dataframe\">\n  <thead>\n    <tr style=\"text-align: right;\">\n      <th></th>\n      <th>Station Number</th>\n      <th>Year</th>\n      <th>Month</th>\n      <th>Rainfall</th>\n    </tr>\n  </thead>\n  <tbody>\n    <tr>\n      <th>62</th>\n      <td>23034</td>\n      <td>2017</td>\n      <td>1</td>\n      <td>39.4</td>\n    </tr>\n    <tr>\n      <th>63</th>\n      <td>23034</td>\n      <td>2018</td>\n      <td>1</td>\n      <td>8.8</td>\n    </tr>\n    <tr>\n      <th>64</th>\n      <td>23034</td>\n      <td>2019</td>\n      <td>1</td>\n      <td>0.2</td>\n    </tr>\n    <tr>\n      <th>65</th>\n      <td>23034</td>\n      <td>2020</td>\n      <td>1</td>\n      <td>17.8</td>\n    </tr>\n    <tr>\n      <th>66</th>\n      <td>23034</td>\n      <td>2021</td>\n      <td>1</td>\n      <td>26.0</td>\n    </tr>\n    <tr>\n      <th>...</th>\n      <td>...</td>\n      <td>...</td>\n      <td>...</td>\n      <td>...</td>\n    </tr>\n    <tr>\n      <th>835</th>\n      <td>23034</td>\n      <td>2020</td>\n      <td>12</td>\n      <td>17.0</td>\n    </tr>\n    <tr>\n      <th>836</th>\n      <td>23034</td>\n      <td>2021</td>\n      <td>12</td>\n      <td>1.6</td>\n    </tr>\n    <tr>\n      <th>837</th>\n      <td>23034</td>\n      <td>2022</td>\n      <td>12</td>\n      <td>8.0</td>\n    </tr>\n    <tr>\n      <th>838</th>\n      <td>23034</td>\n      <td>2023</td>\n      <td>12</td>\n      <td>56.2</td>\n    </tr>\n    <tr>\n      <th>839</th>\n      <td>23034</td>\n      <td>2024</td>\n      <td>12</td>\n      <td>NaN</td>\n    </tr>\n  </tbody>\n</table>\n<p>96 rows × 4 columns</p>\n</div>"
     },
     "execution_count": 11,
     "metadata": {},
     "output_type": "execute_result"
    }
   ],
   "source": [
    "rainfall_adel"
   ],
   "metadata": {
    "collapsed": false
   }
  },
  {
   "cell_type": "code",
   "execution_count": 12,
   "outputs": [],
   "source": [
    "rainfall_adel.rename(columns={'Station Number': 'Departing_Port'}, inplace=True)"
   ],
   "metadata": {
    "collapsed": false
   }
  },
  {
   "cell_type": "code",
   "execution_count": 13,
   "outputs": [
    {
     "data": {
      "text/plain": "     Departing_Port  Year  Month  Rainfall\n62            23034  2017      1      39.4\n63            23034  2018      1       8.8\n64            23034  2019      1       0.2\n65            23034  2020      1      17.8\n66            23034  2021      1      26.0\n..              ...   ...    ...       ...\n835           23034  2020     12      17.0\n836           23034  2021     12       1.6\n837           23034  2022     12       8.0\n838           23034  2023     12      56.2\n839           23034  2024     12       NaN\n\n[96 rows x 4 columns]",
      "text/html": "<div>\n<style scoped>\n    .dataframe tbody tr th:only-of-type {\n        vertical-align: middle;\n    }\n\n    .dataframe tbody tr th {\n        vertical-align: top;\n    }\n\n    .dataframe thead th {\n        text-align: right;\n    }\n</style>\n<table border=\"1\" class=\"dataframe\">\n  <thead>\n    <tr style=\"text-align: right;\">\n      <th></th>\n      <th>Departing_Port</th>\n      <th>Year</th>\n      <th>Month</th>\n      <th>Rainfall</th>\n    </tr>\n  </thead>\n  <tbody>\n    <tr>\n      <th>62</th>\n      <td>23034</td>\n      <td>2017</td>\n      <td>1</td>\n      <td>39.4</td>\n    </tr>\n    <tr>\n      <th>63</th>\n      <td>23034</td>\n      <td>2018</td>\n      <td>1</td>\n      <td>8.8</td>\n    </tr>\n    <tr>\n      <th>64</th>\n      <td>23034</td>\n      <td>2019</td>\n      <td>1</td>\n      <td>0.2</td>\n    </tr>\n    <tr>\n      <th>65</th>\n      <td>23034</td>\n      <td>2020</td>\n      <td>1</td>\n      <td>17.8</td>\n    </tr>\n    <tr>\n      <th>66</th>\n      <td>23034</td>\n      <td>2021</td>\n      <td>1</td>\n      <td>26.0</td>\n    </tr>\n    <tr>\n      <th>...</th>\n      <td>...</td>\n      <td>...</td>\n      <td>...</td>\n      <td>...</td>\n    </tr>\n    <tr>\n      <th>835</th>\n      <td>23034</td>\n      <td>2020</td>\n      <td>12</td>\n      <td>17.0</td>\n    </tr>\n    <tr>\n      <th>836</th>\n      <td>23034</td>\n      <td>2021</td>\n      <td>12</td>\n      <td>1.6</td>\n    </tr>\n    <tr>\n      <th>837</th>\n      <td>23034</td>\n      <td>2022</td>\n      <td>12</td>\n      <td>8.0</td>\n    </tr>\n    <tr>\n      <th>838</th>\n      <td>23034</td>\n      <td>2023</td>\n      <td>12</td>\n      <td>56.2</td>\n    </tr>\n    <tr>\n      <th>839</th>\n      <td>23034</td>\n      <td>2024</td>\n      <td>12</td>\n      <td>NaN</td>\n    </tr>\n  </tbody>\n</table>\n<p>96 rows × 4 columns</p>\n</div>"
     },
     "execution_count": 13,
     "metadata": {},
     "output_type": "execute_result"
    }
   ],
   "source": [
    "rainfall_adel"
   ],
   "metadata": {
    "collapsed": false
   }
  },
  {
   "cell_type": "code",
   "execution_count": 14,
   "outputs": [
    {
     "data": {
      "text/plain": "array([23034], dtype=int64)"
     },
     "execution_count": 14,
     "metadata": {},
     "output_type": "execute_result"
    }
   ],
   "source": [
    "rainfall_adel['Departing_Port'].unique()\n"
   ],
   "metadata": {
    "collapsed": false
   }
  },
  {
   "cell_type": "code",
   "execution_count": 15,
   "outputs": [],
   "source": [
    "rainfall_adel['Departing_Port'] = rainfall_adel['Departing_Port'].astype(str)\n",
    "rainfall_adel['Departing_Port'].replace('23034', 'Adelaide', inplace=True)\n"
   ],
   "metadata": {
    "collapsed": false
   }
  },
  {
   "cell_type": "code",
   "execution_count": 16,
   "outputs": [
    {
     "data": {
      "text/plain": "    Departing_Port  Year  Month  Rainfall\n62        Adelaide  2017      1      39.4\n63        Adelaide  2018      1       8.8\n64        Adelaide  2019      1       0.2\n65        Adelaide  2020      1      17.8\n66        Adelaide  2021      1      26.0\n..             ...   ...    ...       ...\n835       Adelaide  2020     12      17.0\n836       Adelaide  2021     12       1.6\n837       Adelaide  2022     12       8.0\n838       Adelaide  2023     12      56.2\n839       Adelaide  2024     12       NaN\n\n[96 rows x 4 columns]",
      "text/html": "<div>\n<style scoped>\n    .dataframe tbody tr th:only-of-type {\n        vertical-align: middle;\n    }\n\n    .dataframe tbody tr th {\n        vertical-align: top;\n    }\n\n    .dataframe thead th {\n        text-align: right;\n    }\n</style>\n<table border=\"1\" class=\"dataframe\">\n  <thead>\n    <tr style=\"text-align: right;\">\n      <th></th>\n      <th>Departing_Port</th>\n      <th>Year</th>\n      <th>Month</th>\n      <th>Rainfall</th>\n    </tr>\n  </thead>\n  <tbody>\n    <tr>\n      <th>62</th>\n      <td>Adelaide</td>\n      <td>2017</td>\n      <td>1</td>\n      <td>39.4</td>\n    </tr>\n    <tr>\n      <th>63</th>\n      <td>Adelaide</td>\n      <td>2018</td>\n      <td>1</td>\n      <td>8.8</td>\n    </tr>\n    <tr>\n      <th>64</th>\n      <td>Adelaide</td>\n      <td>2019</td>\n      <td>1</td>\n      <td>0.2</td>\n    </tr>\n    <tr>\n      <th>65</th>\n      <td>Adelaide</td>\n      <td>2020</td>\n      <td>1</td>\n      <td>17.8</td>\n    </tr>\n    <tr>\n      <th>66</th>\n      <td>Adelaide</td>\n      <td>2021</td>\n      <td>1</td>\n      <td>26.0</td>\n    </tr>\n    <tr>\n      <th>...</th>\n      <td>...</td>\n      <td>...</td>\n      <td>...</td>\n      <td>...</td>\n    </tr>\n    <tr>\n      <th>835</th>\n      <td>Adelaide</td>\n      <td>2020</td>\n      <td>12</td>\n      <td>17.0</td>\n    </tr>\n    <tr>\n      <th>836</th>\n      <td>Adelaide</td>\n      <td>2021</td>\n      <td>12</td>\n      <td>1.6</td>\n    </tr>\n    <tr>\n      <th>837</th>\n      <td>Adelaide</td>\n      <td>2022</td>\n      <td>12</td>\n      <td>8.0</td>\n    </tr>\n    <tr>\n      <th>838</th>\n      <td>Adelaide</td>\n      <td>2023</td>\n      <td>12</td>\n      <td>56.2</td>\n    </tr>\n    <tr>\n      <th>839</th>\n      <td>Adelaide</td>\n      <td>2024</td>\n      <td>12</td>\n      <td>NaN</td>\n    </tr>\n  </tbody>\n</table>\n<p>96 rows × 4 columns</p>\n</div>"
     },
     "execution_count": 16,
     "metadata": {},
     "output_type": "execute_result"
    }
   ],
   "source": [
    "rainfall_adel"
   ],
   "metadata": {
    "collapsed": false
   }
  },
  {
   "cell_type": "code",
   "execution_count": 17,
   "outputs": [
    {
     "data": {
      "text/plain": "    Departing_Port  Year  Month  Rainfall\n62        Adelaide  2017      1      39.4\n63        Adelaide  2018      1       8.8\n64        Adelaide  2019      1       0.2\n65        Adelaide  2020      1      17.8\n66        Adelaide  2021      1      26.0\n..             ...   ...    ...       ...\n835       Adelaide  2020     12      17.0\n836       Adelaide  2021     12       1.6\n837       Adelaide  2022     12       8.0\n838       Adelaide  2023     12      56.2\n839       Adelaide  2024     12       NaN\n\n[96 rows x 4 columns]",
      "text/html": "<div>\n<style scoped>\n    .dataframe tbody tr th:only-of-type {\n        vertical-align: middle;\n    }\n\n    .dataframe tbody tr th {\n        vertical-align: top;\n    }\n\n    .dataframe thead th {\n        text-align: right;\n    }\n</style>\n<table border=\"1\" class=\"dataframe\">\n  <thead>\n    <tr style=\"text-align: right;\">\n      <th></th>\n      <th>Departing_Port</th>\n      <th>Year</th>\n      <th>Month</th>\n      <th>Rainfall</th>\n    </tr>\n  </thead>\n  <tbody>\n    <tr>\n      <th>62</th>\n      <td>Adelaide</td>\n      <td>2017</td>\n      <td>1</td>\n      <td>39.4</td>\n    </tr>\n    <tr>\n      <th>63</th>\n      <td>Adelaide</td>\n      <td>2018</td>\n      <td>1</td>\n      <td>8.8</td>\n    </tr>\n    <tr>\n      <th>64</th>\n      <td>Adelaide</td>\n      <td>2019</td>\n      <td>1</td>\n      <td>0.2</td>\n    </tr>\n    <tr>\n      <th>65</th>\n      <td>Adelaide</td>\n      <td>2020</td>\n      <td>1</td>\n      <td>17.8</td>\n    </tr>\n    <tr>\n      <th>66</th>\n      <td>Adelaide</td>\n      <td>2021</td>\n      <td>1</td>\n      <td>26.0</td>\n    </tr>\n    <tr>\n      <th>...</th>\n      <td>...</td>\n      <td>...</td>\n      <td>...</td>\n      <td>...</td>\n    </tr>\n    <tr>\n      <th>835</th>\n      <td>Adelaide</td>\n      <td>2020</td>\n      <td>12</td>\n      <td>17.0</td>\n    </tr>\n    <tr>\n      <th>836</th>\n      <td>Adelaide</td>\n      <td>2021</td>\n      <td>12</td>\n      <td>1.6</td>\n    </tr>\n    <tr>\n      <th>837</th>\n      <td>Adelaide</td>\n      <td>2022</td>\n      <td>12</td>\n      <td>8.0</td>\n    </tr>\n    <tr>\n      <th>838</th>\n      <td>Adelaide</td>\n      <td>2023</td>\n      <td>12</td>\n      <td>56.2</td>\n    </tr>\n    <tr>\n      <th>839</th>\n      <td>Adelaide</td>\n      <td>2024</td>\n      <td>12</td>\n      <td>NaN</td>\n    </tr>\n  </tbody>\n</table>\n<p>96 rows × 4 columns</p>\n</div>"
     },
     "execution_count": 17,
     "metadata": {},
     "output_type": "execute_result"
    }
   ],
   "source": [
    "rainfall_adel"
   ],
   "metadata": {
    "collapsed": false
   }
  },
  {
   "cell_type": "code",
   "execution_count": 18,
   "outputs": [
    {
     "data": {
      "text/plain": "    Departing_Port  Year  Month  Rainfall\n629       Adelaide  2024      9       NaN\n699       Adelaide  2024     10       NaN\n769       Adelaide  2024     11       NaN\n839       Adelaide  2024     12       NaN",
      "text/html": "<div>\n<style scoped>\n    .dataframe tbody tr th:only-of-type {\n        vertical-align: middle;\n    }\n\n    .dataframe tbody tr th {\n        vertical-align: top;\n    }\n\n    .dataframe thead th {\n        text-align: right;\n    }\n</style>\n<table border=\"1\" class=\"dataframe\">\n  <thead>\n    <tr style=\"text-align: right;\">\n      <th></th>\n      <th>Departing_Port</th>\n      <th>Year</th>\n      <th>Month</th>\n      <th>Rainfall</th>\n    </tr>\n  </thead>\n  <tbody>\n    <tr>\n      <th>629</th>\n      <td>Adelaide</td>\n      <td>2024</td>\n      <td>9</td>\n      <td>NaN</td>\n    </tr>\n    <tr>\n      <th>699</th>\n      <td>Adelaide</td>\n      <td>2024</td>\n      <td>10</td>\n      <td>NaN</td>\n    </tr>\n    <tr>\n      <th>769</th>\n      <td>Adelaide</td>\n      <td>2024</td>\n      <td>11</td>\n      <td>NaN</td>\n    </tr>\n    <tr>\n      <th>839</th>\n      <td>Adelaide</td>\n      <td>2024</td>\n      <td>12</td>\n      <td>NaN</td>\n    </tr>\n  </tbody>\n</table>\n</div>"
     },
     "execution_count": 18,
     "metadata": {},
     "output_type": "execute_result"
    }
   ],
   "source": [
    "rainfall_adel[rainfall_adel.isna().any(axis=1)]"
   ],
   "metadata": {
    "collapsed": false
   }
  },
  {
   "cell_type": "code",
   "execution_count": 19,
   "outputs": [],
   "source": [
    "rainfall_adel['Rainfall'] = rainfall_adel['Rainfall'].interpolate(method='linear')"
   ],
   "metadata": {
    "collapsed": false
   }
  },
  {
   "cell_type": "code",
   "execution_count": 20,
   "outputs": [
    {
     "data": {
      "text/plain": "Empty DataFrame\nColumns: [Departing_Port, Year, Month, Rainfall]\nIndex: []",
      "text/html": "<div>\n<style scoped>\n    .dataframe tbody tr th:only-of-type {\n        vertical-align: middle;\n    }\n\n    .dataframe tbody tr th {\n        vertical-align: top;\n    }\n\n    .dataframe thead th {\n        text-align: right;\n    }\n</style>\n<table border=\"1\" class=\"dataframe\">\n  <thead>\n    <tr style=\"text-align: right;\">\n      <th></th>\n      <th>Departing_Port</th>\n      <th>Year</th>\n      <th>Month</th>\n      <th>Rainfall</th>\n    </tr>\n  </thead>\n  <tbody>\n  </tbody>\n</table>\n</div>"
     },
     "execution_count": 20,
     "metadata": {},
     "output_type": "execute_result"
    }
   ],
   "source": [
    "rainfall_adel[rainfall_adel.isna().any(axis=1)]"
   ],
   "metadata": {
    "collapsed": false
   }
  },
  {
   "cell_type": "code",
   "execution_count": 22,
   "outputs": [],
   "source": [
    "rainfall_adel.to_csv(\"rainfall_adel_processed.csv\", header=True, index=False)"
   ],
   "metadata": {
    "collapsed": false,
    "ExecuteTime": {
     "end_time": "2024-09-28T11:18:10.722375700Z",
     "start_time": "2024-09-28T11:18:10.691066500Z"
    }
   }
  },
  {
   "cell_type": "code",
   "execution_count": 21,
   "outputs": [],
   "source": [],
   "metadata": {
    "collapsed": false
   }
  }
 ],
 "metadata": {
  "kernelspec": {
   "display_name": "Python 3",
   "language": "python",
   "name": "python3"
  },
  "language_info": {
   "codemirror_mode": {
    "name": "ipython",
    "version": 2
   },
   "file_extension": ".py",
   "mimetype": "text/x-python",
   "name": "python",
   "nbconvert_exporter": "python",
   "pygments_lexer": "ipython2",
   "version": "2.7.6"
  }
 },
 "nbformat": 4,
 "nbformat_minor": 0
}
